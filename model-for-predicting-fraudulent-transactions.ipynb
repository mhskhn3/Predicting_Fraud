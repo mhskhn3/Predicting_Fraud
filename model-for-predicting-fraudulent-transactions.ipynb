{
 "cells": [
  {
   "cell_type": "markdown",
   "id": "6a682863",
   "metadata": {
    "papermill": {
     "duration": 0.007959,
     "end_time": "2023-08-19T09:14:58.997326",
     "exception": false,
     "start_time": "2023-08-19T09:14:58.989367",
     "status": "completed"
    },
    "tags": []
   },
   "source": [
    "# Data Preparation and Cleaning\n",
    "#### This the crucial step in data analysis. We have to make sure that there are no missing values or outliers in the data which will potentially trouble us while drawing the insights."
   ]
  },
  {
   "cell_type": "code",
   "execution_count": 1,
   "id": "7b57d8b0",
   "metadata": {
    "execution": {
     "iopub.execute_input": "2023-08-19T09:14:59.015349Z",
     "iopub.status.busy": "2023-08-19T09:14:59.014746Z",
     "iopub.status.idle": "2023-08-19T09:15:04.779399Z",
     "shell.execute_reply": "2023-08-19T09:15:04.778057Z"
    },
    "papermill": {
     "duration": 5.777959,
     "end_time": "2023-08-19T09:15:04.782685",
     "exception": false,
     "start_time": "2023-08-19T09:14:59.004726",
     "status": "completed"
    },
    "tags": []
   },
   "outputs": [
    {
     "name": "stderr",
     "output_type": "stream",
     "text": [
      "/opt/conda/lib/python3.10/site-packages/scipy/__init__.py:146: UserWarning: A NumPy version >=1.16.5 and <1.23.0 is required for this version of SciPy (detected version 1.23.5\n",
      "  warnings.warn(f\"A NumPy version >={np_minversion} and <{np_maxversion}\"\n"
     ]
    },
    {
     "data": {
      "text/html": [
       "<div>\n",
       "<style scoped>\n",
       "    .dataframe tbody tr th:only-of-type {\n",
       "        vertical-align: middle;\n",
       "    }\n",
       "\n",
       "    .dataframe tbody tr th {\n",
       "        vertical-align: top;\n",
       "    }\n",
       "\n",
       "    .dataframe thead th {\n",
       "        text-align: right;\n",
       "    }\n",
       "</style>\n",
       "<table border=\"1\" class=\"dataframe\">\n",
       "  <thead>\n",
       "    <tr style=\"text-align: right;\">\n",
       "      <th></th>\n",
       "      <th>step</th>\n",
       "      <th>type</th>\n",
       "      <th>amount</th>\n",
       "      <th>nameOrig</th>\n",
       "      <th>oldbalanceOrg</th>\n",
       "      <th>newbalanceOrig</th>\n",
       "      <th>nameDest</th>\n",
       "      <th>oldbalanceDest</th>\n",
       "      <th>newbalanceDest</th>\n",
       "      <th>isFraud</th>\n",
       "      <th>isFlaggedFraud</th>\n",
       "    </tr>\n",
       "  </thead>\n",
       "  <tbody>\n",
       "    <tr>\n",
       "      <th>0</th>\n",
       "      <td>1</td>\n",
       "      <td>PAYMENT</td>\n",
       "      <td>9839.64</td>\n",
       "      <td>C1231006815</td>\n",
       "      <td>170136.0</td>\n",
       "      <td>160296.36</td>\n",
       "      <td>M1979787155</td>\n",
       "      <td>0.0</td>\n",
       "      <td>0.0</td>\n",
       "      <td>0</td>\n",
       "      <td>0</td>\n",
       "    </tr>\n",
       "    <tr>\n",
       "      <th>1</th>\n",
       "      <td>1</td>\n",
       "      <td>PAYMENT</td>\n",
       "      <td>1864.28</td>\n",
       "      <td>C1666544295</td>\n",
       "      <td>21249.0</td>\n",
       "      <td>19384.72</td>\n",
       "      <td>M2044282225</td>\n",
       "      <td>0.0</td>\n",
       "      <td>0.0</td>\n",
       "      <td>0</td>\n",
       "      <td>0</td>\n",
       "    </tr>\n",
       "    <tr>\n",
       "      <th>2</th>\n",
       "      <td>1</td>\n",
       "      <td>TRANSFER</td>\n",
       "      <td>181.00</td>\n",
       "      <td>C1305486145</td>\n",
       "      <td>181.0</td>\n",
       "      <td>0.00</td>\n",
       "      <td>C553264065</td>\n",
       "      <td>0.0</td>\n",
       "      <td>0.0</td>\n",
       "      <td>1</td>\n",
       "      <td>0</td>\n",
       "    </tr>\n",
       "    <tr>\n",
       "      <th>3</th>\n",
       "      <td>1</td>\n",
       "      <td>CASH_OUT</td>\n",
       "      <td>181.00</td>\n",
       "      <td>C840083671</td>\n",
       "      <td>181.0</td>\n",
       "      <td>0.00</td>\n",
       "      <td>C38997010</td>\n",
       "      <td>21182.0</td>\n",
       "      <td>0.0</td>\n",
       "      <td>1</td>\n",
       "      <td>0</td>\n",
       "    </tr>\n",
       "    <tr>\n",
       "      <th>4</th>\n",
       "      <td>1</td>\n",
       "      <td>PAYMENT</td>\n",
       "      <td>11668.14</td>\n",
       "      <td>C2048537720</td>\n",
       "      <td>41554.0</td>\n",
       "      <td>29885.86</td>\n",
       "      <td>M1230701703</td>\n",
       "      <td>0.0</td>\n",
       "      <td>0.0</td>\n",
       "      <td>0</td>\n",
       "      <td>0</td>\n",
       "    </tr>\n",
       "  </tbody>\n",
       "</table>\n",
       "</div>"
      ],
      "text/plain": [
       "   step      type    amount     nameOrig  oldbalanceOrg  newbalanceOrig  \\\n",
       "0     1   PAYMENT   9839.64  C1231006815       170136.0       160296.36   \n",
       "1     1   PAYMENT   1864.28  C1666544295        21249.0        19384.72   \n",
       "2     1  TRANSFER    181.00  C1305486145          181.0            0.00   \n",
       "3     1  CASH_OUT    181.00   C840083671          181.0            0.00   \n",
       "4     1   PAYMENT  11668.14  C2048537720        41554.0        29885.86   \n",
       "\n",
       "      nameDest  oldbalanceDest  newbalanceDest  isFraud  isFlaggedFraud  \n",
       "0  M1979787155             0.0             0.0        0               0  \n",
       "1  M2044282225             0.0             0.0        0               0  \n",
       "2   C553264065             0.0             0.0        1               0  \n",
       "3    C38997010         21182.0             0.0        1               0  \n",
       "4  M1230701703             0.0             0.0        0               0  "
      ]
     },
     "execution_count": 1,
     "metadata": {},
     "output_type": "execute_result"
    }
   ],
   "source": [
    "#importing numpay, pandas and matplotlib libraries\n",
    "\n",
    "import numpy as np\n",
    "import pandas as pd\n",
    "from matplotlib import pyplot as plt\n",
    "import seaborn as sns\n",
    "\n",
    "#loading the data\n",
    "df=pd.read_csv('/kaggle/input/fraudtask1/Fraud.csv')\n",
    "df.head()"
   ]
  },
  {
   "cell_type": "code",
   "execution_count": 2,
   "id": "24addf7c",
   "metadata": {
    "execution": {
     "iopub.execute_input": "2023-08-19T09:15:04.800622Z",
     "iopub.status.busy": "2023-08-19T09:15:04.800217Z",
     "iopub.status.idle": "2023-08-19T09:15:04.808612Z",
     "shell.execute_reply": "2023-08-19T09:15:04.807328Z"
    },
    "papermill": {
     "duration": 0.020375,
     "end_time": "2023-08-19T09:15:04.811380",
     "exception": false,
     "start_time": "2023-08-19T09:15:04.791005",
     "status": "completed"
    },
    "tags": []
   },
   "outputs": [
    {
     "data": {
      "text/plain": [
       "(1048575, 11)"
      ]
     },
     "execution_count": 2,
     "metadata": {},
     "output_type": "execute_result"
    }
   ],
   "source": [
    "#Numbers of row and column\n",
    "df.shape"
   ]
  },
  {
   "cell_type": "code",
   "execution_count": 3,
   "id": "ea3cbd74",
   "metadata": {
    "execution": {
     "iopub.execute_input": "2023-08-19T09:15:04.829971Z",
     "iopub.status.busy": "2023-08-19T09:15:04.829517Z",
     "iopub.status.idle": "2023-08-19T09:15:05.953307Z",
     "shell.execute_reply": "2023-08-19T09:15:05.952082Z"
    },
    "papermill": {
     "duration": 1.136732,
     "end_time": "2023-08-19T09:15:05.956710",
     "exception": false,
     "start_time": "2023-08-19T09:15:04.819978",
     "status": "completed"
    },
    "tags": []
   },
   "outputs": [
    {
     "name": "stdout",
     "output_type": "stream",
     "text": [
      "<class 'pandas.core.frame.DataFrame'>\n",
      "RangeIndex: 1048575 entries, 0 to 1048574\n",
      "Data columns (total 11 columns):\n",
      " #   Column          Non-Null Count    Dtype  \n",
      "---  ------          --------------    -----  \n",
      " 0   step            1048575 non-null  int64  \n",
      " 1   type            1048575 non-null  object \n",
      " 2   amount          1048575 non-null  float64\n",
      " 3   nameOrig        1048575 non-null  object \n",
      " 4   oldbalanceOrg   1048575 non-null  float64\n",
      " 5   newbalanceOrig  1048575 non-null  float64\n",
      " 6   nameDest        1048575 non-null  object \n",
      " 7   oldbalanceDest  1048575 non-null  float64\n",
      " 8   newbalanceDest  1048575 non-null  float64\n",
      " 9   isFraud         1048575 non-null  int64  \n",
      " 10  isFlaggedFraud  1048575 non-null  int64  \n",
      "dtypes: float64(5), int64(3), object(3)\n",
      "memory usage: 88.0+ MB\n"
     ]
    }
   ],
   "source": [
    "#getting information about the data\n",
    "df.info()"
   ]
  },
  {
   "cell_type": "code",
   "execution_count": 4,
   "id": "0cb7c350",
   "metadata": {
    "execution": {
     "iopub.execute_input": "2023-08-19T09:15:05.974813Z",
     "iopub.status.busy": "2023-08-19T09:15:05.974380Z",
     "iopub.status.idle": "2023-08-19T09:15:07.046488Z",
     "shell.execute_reply": "2023-08-19T09:15:07.045176Z"
    },
    "papermill": {
     "duration": 1.084505,
     "end_time": "2023-08-19T09:15:07.049148",
     "exception": false,
     "start_time": "2023-08-19T09:15:05.964643",
     "status": "completed"
    },
    "tags": []
   },
   "outputs": [
    {
     "data": {
      "text/plain": [
       "step              0\n",
       "type              0\n",
       "amount            0\n",
       "nameOrig          0\n",
       "oldbalanceOrg     0\n",
       "newbalanceOrig    0\n",
       "nameDest          0\n",
       "oldbalanceDest    0\n",
       "newbalanceDest    0\n",
       "isFraud           0\n",
       "isFlaggedFraud    0\n",
       "dtype: int64"
      ]
     },
     "execution_count": 4,
     "metadata": {},
     "output_type": "execute_result"
    }
   ],
   "source": [
    "#getting the sum of missing values for each attribute\n",
    "df.isnull().sum()"
   ]
  },
  {
   "cell_type": "markdown",
   "id": "d2d695d2",
   "metadata": {
    "papermill": {
     "duration": 0.008139,
     "end_time": "2023-08-19T09:15:07.065491",
     "exception": false,
     "start_time": "2023-08-19T09:15:07.057352",
     "status": "completed"
    },
    "tags": []
   },
   "source": [
    "#### No missing values in the entire dataset now we are good to go further."
   ]
  },
  {
   "cell_type": "markdown",
   "id": "47189c58",
   "metadata": {
    "papermill": {
     "duration": 0.008237,
     "end_time": "2023-08-19T09:15:07.081918",
     "exception": false,
     "start_time": "2023-08-19T09:15:07.073681",
     "status": "completed"
    },
    "tags": []
   },
   "source": [
    "# Exploratory Analysis and Visualization\n",
    "##### We will explore the data, find the various statistical measures and visualize the relationship between different attributes."
   ]
  },
  {
   "cell_type": "code",
   "execution_count": 5,
   "id": "b4669a3e",
   "metadata": {
    "execution": {
     "iopub.execute_input": "2023-08-19T09:15:07.102999Z",
     "iopub.status.busy": "2023-08-19T09:15:07.102575Z",
     "iopub.status.idle": "2023-08-19T09:15:07.293541Z",
     "shell.execute_reply": "2023-08-19T09:15:07.292020Z"
    },
    "papermill": {
     "duration": 0.206171,
     "end_time": "2023-08-19T09:15:07.296379",
     "exception": false,
     "start_time": "2023-08-19T09:15:07.090208",
     "status": "completed"
    },
    "tags": []
   },
   "outputs": [
    {
     "data": {
      "text/plain": [
       "CASH_OUT    373641\n",
       "PAYMENT     353873\n",
       "CASH_IN     227130\n",
       "TRANSFER     86753\n",
       "DEBIT         7178\n",
       "Name: type, dtype: int64"
      ]
     },
     "execution_count": 5,
     "metadata": {},
     "output_type": "execute_result"
    }
   ],
   "source": [
    "#Exploring the transaction type\n",
    "df.type.value_counts()"
   ]
  },
  {
   "cell_type": "code",
   "execution_count": 6,
   "id": "896b8743",
   "metadata": {
    "execution": {
     "iopub.execute_input": "2023-08-19T09:15:07.315531Z",
     "iopub.status.busy": "2023-08-19T09:15:07.315116Z",
     "iopub.status.idle": "2023-08-19T09:15:07.817728Z",
     "shell.execute_reply": "2023-08-19T09:15:07.816507Z"
    },
    "papermill": {
     "duration": 0.515244,
     "end_time": "2023-08-19T09:15:07.820413",
     "exception": false,
     "start_time": "2023-08-19T09:15:07.305169",
     "status": "completed"
    },
    "tags": []
   },
   "outputs": [
    {
     "data": {
      "text/plain": [
       "<matplotlib.legend.Legend at 0x7d89e9ca3310>"
      ]
     },
     "execution_count": 6,
     "metadata": {},
     "output_type": "execute_result"
    },
    {
     "data": {
      "image/png": "[encoded data removed]",
      "text/plain": [
       "<Figure size 700x400 with 1 Axes>"
      ]
     },
     "metadata": {},
     "output_type": "display_data"
    }
   ],
   "source": [
    "type=df[\"type\"].value_counts()\n",
    "plt.figure(figsize=(7,4))\n",
    "plt.pie(type.values,autopct=\"%1.1f%%\" )\n",
    "plt.legend(type.index, bbox_to_anchor=(2,1),loc='upper right', title='DISTRIBUTION OF TRANSECTIONS TYPE')"
   ]
  },
  {
   "cell_type": "code",
   "execution_count": 7,
   "id": "f0b87568",
   "metadata": {
    "execution": {
     "iopub.execute_input": "2023-08-19T09:15:07.840549Z",
     "iopub.status.busy": "2023-08-19T09:15:07.840145Z",
     "iopub.status.idle": "2023-08-19T09:15:08.114579Z",
     "shell.execute_reply": "2023-08-19T09:15:08.113008Z"
    },
    "papermill": {
     "duration": 0.288219,
     "end_time": "2023-08-19T09:15:08.117555",
     "exception": false,
     "start_time": "2023-08-19T09:15:07.829336",
     "status": "completed"
    },
    "tags": []
   },
   "outputs": [
    {
     "name": "stderr",
     "output_type": "stream",
     "text": [
      "/tmp/ipykernel_20/997045354.py:3: FutureWarning: The default value of numeric_only in DataFrame.corr is deprecated. In a future version, it will default to False. Select only valid columns or specify the value of numeric_only to silence this warning.\n",
      "  correlation=df.corr()\n"
     ]
    },
    {
     "data": {
      "text/plain": [
       "isFraud           1.000000\n",
       "amount            0.128862\n",
       "step              0.045030\n",
       "oldbalanceOrg     0.003829\n",
       "newbalanceDest   -0.000495\n",
       "oldbalanceDest   -0.007552\n",
       "newbalanceOrig   -0.009438\n",
       "isFlaggedFraud         NaN\n",
       "Name: isFraud, dtype: float64"
      ]
     },
     "execution_count": 7,
     "metadata": {},
     "output_type": "execute_result"
    }
   ],
   "source": [
    "#check correlation between the features of the data with the isFraud column\n",
    "#checking correlation\n",
    "correlation=df.corr()\n",
    "correlation[\"isFraud\"].sort_values(ascending=False)"
   ]
  },
  {
   "cell_type": "code",
   "execution_count": 8,
   "id": "82e820c7",
   "metadata": {
    "execution": {
     "iopub.execute_input": "2023-08-19T09:15:08.140657Z",
     "iopub.status.busy": "2023-08-19T09:15:08.140249Z",
     "iopub.status.idle": "2023-08-19T09:15:08.375364Z",
     "shell.execute_reply": "2023-08-19T09:15:08.373908Z"
    },
    "papermill": {
     "duration": 0.249525,
     "end_time": "2023-08-19T09:15:08.378376",
     "exception": false,
     "start_time": "2023-08-19T09:15:08.128851",
     "status": "completed"
    },
    "tags": []
   },
   "outputs": [
    {
     "data": {
      "text/html": [
       "<div>\n",
       "<style scoped>\n",
       "    .dataframe tbody tr th:only-of-type {\n",
       "        vertical-align: middle;\n",
       "    }\n",
       "\n",
       "    .dataframe tbody tr th {\n",
       "        vertical-align: top;\n",
       "    }\n",
       "\n",
       "    .dataframe thead th {\n",
       "        text-align: right;\n",
       "    }\n",
       "</style>\n",
       "<table border=\"1\" class=\"dataframe\">\n",
       "  <thead>\n",
       "    <tr style=\"text-align: right;\">\n",
       "      <th></th>\n",
       "      <th>step</th>\n",
       "      <th>type</th>\n",
       "      <th>amount</th>\n",
       "      <th>nameOrig</th>\n",
       "      <th>oldbalanceOrg</th>\n",
       "      <th>newbalanceOrig</th>\n",
       "      <th>nameDest</th>\n",
       "      <th>oldbalanceDest</th>\n",
       "      <th>newbalanceDest</th>\n",
       "      <th>isFraud</th>\n",
       "      <th>isFlaggedFraud</th>\n",
       "    </tr>\n",
       "  </thead>\n",
       "  <tbody>\n",
       "    <tr>\n",
       "      <th>0</th>\n",
       "      <td>1</td>\n",
       "      <td>2</td>\n",
       "      <td>9839.64</td>\n",
       "      <td>C1231006815</td>\n",
       "      <td>170136.00</td>\n",
       "      <td>160296.36</td>\n",
       "      <td>M1979787155</td>\n",
       "      <td>0.0</td>\n",
       "      <td>0.00</td>\n",
       "      <td>No_Fraud</td>\n",
       "      <td>0</td>\n",
       "    </tr>\n",
       "    <tr>\n",
       "      <th>1</th>\n",
       "      <td>1</td>\n",
       "      <td>2</td>\n",
       "      <td>1864.28</td>\n",
       "      <td>C1666544295</td>\n",
       "      <td>21249.00</td>\n",
       "      <td>19384.72</td>\n",
       "      <td>M2044282225</td>\n",
       "      <td>0.0</td>\n",
       "      <td>0.00</td>\n",
       "      <td>No_Fraud</td>\n",
       "      <td>0</td>\n",
       "    </tr>\n",
       "    <tr>\n",
       "      <th>2</th>\n",
       "      <td>1</td>\n",
       "      <td>4</td>\n",
       "      <td>181.00</td>\n",
       "      <td>C1305486145</td>\n",
       "      <td>181.00</td>\n",
       "      <td>0.00</td>\n",
       "      <td>C553264065</td>\n",
       "      <td>0.0</td>\n",
       "      <td>0.00</td>\n",
       "      <td>Fraud</td>\n",
       "      <td>0</td>\n",
       "    </tr>\n",
       "    <tr>\n",
       "      <th>3</th>\n",
       "      <td>1</td>\n",
       "      <td>1</td>\n",
       "      <td>181.00</td>\n",
       "      <td>C840083671</td>\n",
       "      <td>181.00</td>\n",
       "      <td>0.00</td>\n",
       "      <td>C38997010</td>\n",
       "      <td>21182.0</td>\n",
       "      <td>0.00</td>\n",
       "      <td>Fraud</td>\n",
       "      <td>0</td>\n",
       "    </tr>\n",
       "    <tr>\n",
       "      <th>4</th>\n",
       "      <td>1</td>\n",
       "      <td>2</td>\n",
       "      <td>11668.14</td>\n",
       "      <td>C2048537720</td>\n",
       "      <td>41554.00</td>\n",
       "      <td>29885.86</td>\n",
       "      <td>M1230701703</td>\n",
       "      <td>0.0</td>\n",
       "      <td>0.00</td>\n",
       "      <td>No_Fraud</td>\n",
       "      <td>0</td>\n",
       "    </tr>\n",
       "    <tr>\n",
       "      <th>5</th>\n",
       "      <td>1</td>\n",
       "      <td>2</td>\n",
       "      <td>7817.71</td>\n",
       "      <td>C90045638</td>\n",
       "      <td>53860.00</td>\n",
       "      <td>46042.29</td>\n",
       "      <td>M573487274</td>\n",
       "      <td>0.0</td>\n",
       "      <td>0.00</td>\n",
       "      <td>No_Fraud</td>\n",
       "      <td>0</td>\n",
       "    </tr>\n",
       "    <tr>\n",
       "      <th>6</th>\n",
       "      <td>1</td>\n",
       "      <td>2</td>\n",
       "      <td>7107.77</td>\n",
       "      <td>C154988899</td>\n",
       "      <td>183195.00</td>\n",
       "      <td>176087.23</td>\n",
       "      <td>M408069119</td>\n",
       "      <td>0.0</td>\n",
       "      <td>0.00</td>\n",
       "      <td>No_Fraud</td>\n",
       "      <td>0</td>\n",
       "    </tr>\n",
       "    <tr>\n",
       "      <th>7</th>\n",
       "      <td>1</td>\n",
       "      <td>2</td>\n",
       "      <td>7861.64</td>\n",
       "      <td>C1912850431</td>\n",
       "      <td>176087.23</td>\n",
       "      <td>168225.59</td>\n",
       "      <td>M633326333</td>\n",
       "      <td>0.0</td>\n",
       "      <td>0.00</td>\n",
       "      <td>No_Fraud</td>\n",
       "      <td>0</td>\n",
       "    </tr>\n",
       "    <tr>\n",
       "      <th>8</th>\n",
       "      <td>1</td>\n",
       "      <td>2</td>\n",
       "      <td>4024.36</td>\n",
       "      <td>C1265012928</td>\n",
       "      <td>2671.00</td>\n",
       "      <td>0.00</td>\n",
       "      <td>M1176932104</td>\n",
       "      <td>0.0</td>\n",
       "      <td>0.00</td>\n",
       "      <td>No_Fraud</td>\n",
       "      <td>0</td>\n",
       "    </tr>\n",
       "    <tr>\n",
       "      <th>9</th>\n",
       "      <td>1</td>\n",
       "      <td>5</td>\n",
       "      <td>5337.77</td>\n",
       "      <td>C712410124</td>\n",
       "      <td>41720.00</td>\n",
       "      <td>36382.23</td>\n",
       "      <td>C195600860</td>\n",
       "      <td>41898.0</td>\n",
       "      <td>40348.79</td>\n",
       "      <td>No_Fraud</td>\n",
       "      <td>0</td>\n",
       "    </tr>\n",
       "  </tbody>\n",
       "</table>\n",
       "</div>"
      ],
      "text/plain": [
       "   step  type    amount     nameOrig  oldbalanceOrg  newbalanceOrig  \\\n",
       "0     1     2   9839.64  C1231006815      170136.00       160296.36   \n",
       "1     1     2   1864.28  C1666544295       21249.00        19384.72   \n",
       "2     1     4    181.00  C1305486145         181.00            0.00   \n",
       "3     1     1    181.00   C840083671         181.00            0.00   \n",
       "4     1     2  11668.14  C2048537720       41554.00        29885.86   \n",
       "5     1     2   7817.71    C90045638       53860.00        46042.29   \n",
       "6     1     2   7107.77   C154988899      183195.00       176087.23   \n",
       "7     1     2   7861.64  C1912850431      176087.23       168225.59   \n",
       "8     1     2   4024.36  C1265012928        2671.00            0.00   \n",
       "9     1     5   5337.77   C712410124       41720.00        36382.23   \n",
       "\n",
       "      nameDest  oldbalanceDest  newbalanceDest   isFraud  isFlaggedFraud  \n",
       "0  M1979787155             0.0            0.00  No_Fraud               0  \n",
       "1  M2044282225             0.0            0.00  No_Fraud               0  \n",
       "2   C553264065             0.0            0.00     Fraud               0  \n",
       "3    C38997010         21182.0            0.00     Fraud               0  \n",
       "4  M1230701703             0.0            0.00  No_Fraud               0  \n",
       "5   M573487274             0.0            0.00  No_Fraud               0  \n",
       "6   M408069119             0.0            0.00  No_Fraud               0  \n",
       "7   M633326333             0.0            0.00  No_Fraud               0  \n",
       "8  M1176932104             0.0            0.00  No_Fraud               0  \n",
       "9   C195600860         41898.0        40348.79  No_Fraud               0  "
      ]
     },
     "execution_count": 8,
     "metadata": {},
     "output_type": "execute_result"
    }
   ],
   "source": [
    "df[\"type\"]=df[\"type\"].map({\"CASH_OUT\":1, \"PAYMENT\":2, \"CASH_IN\":3, \"TRANSFER\":4, \"DEBIT\":5})\n",
    "df[\"isFraud\"]=df[\"isFraud\"].map({0:\"No_Fraud\",1:\"Fraud\"})\n",
    "df.head(10)"
   ]
  },
  {
   "cell_type": "code",
   "execution_count": 9,
   "id": "32948264",
   "metadata": {
    "execution": {
     "iopub.execute_input": "2023-08-19T09:15:08.399660Z",
     "iopub.status.busy": "2023-08-19T09:15:08.399266Z",
     "iopub.status.idle": "2023-08-19T09:15:08.909420Z",
     "shell.execute_reply": "2023-08-19T09:15:08.908067Z"
    },
    "papermill": {
     "duration": 0.523945,
     "end_time": "2023-08-19T09:15:08.912363",
     "exception": false,
     "start_time": "2023-08-19T09:15:08.388418",
     "status": "completed"
    },
    "tags": []
   },
   "outputs": [],
   "source": [
    "#splitting the data\n",
    "from sklearn.model_selection import train_test_split\n",
    "x=np.array(df[[\"type\", \"amount\",\"oldbalanceOrg\",\"newbalanceOrig\"]])\n",
    "y=np.array(df[[\"isFraud\"]])"
   ]
  },
  {
   "cell_type": "code",
   "execution_count": 10,
   "id": "aa0c03b1",
   "metadata": {
    "execution": {
     "iopub.execute_input": "2023-08-19T09:15:08.933310Z",
     "iopub.status.busy": "2023-08-19T09:15:08.932873Z",
     "iopub.status.idle": "2023-08-19T09:15:19.489275Z",
     "shell.execute_reply": "2023-08-19T09:15:19.488055Z"
    },
    "papermill": {
     "duration": 10.570064,
     "end_time": "2023-08-19T09:15:19.492039",
     "exception": false,
     "start_time": "2023-08-19T09:15:08.921975",
     "status": "completed"
    },
    "tags": []
   },
   "outputs": [
    {
     "name": "stdout",
     "output_type": "stream",
     "text": [
      "0.9993610406454443\n"
     ]
    }
   ],
   "source": [
    "#training a machine learning model\n",
    "from sklearn.tree import DecisionTreeClassifier\n",
    "xtrain, xtest, ytrain, ytest=train_test_split(x,y,test_size=0.10, random_state=42)\n",
    "model=DecisionTreeClassifier()\n",
    "model.fit(xtrain, ytrain)\n",
    "print(model.score(xtest,ytest))"
   ]
  },
  {
   "cell_type": "code",
   "execution_count": 11,
   "id": "54b48a4d",
   "metadata": {
    "execution": {
     "iopub.execute_input": "2023-08-19T09:15:19.513557Z",
     "iopub.status.busy": "2023-08-19T09:15:19.512903Z",
     "iopub.status.idle": "2023-08-19T09:15:19.521209Z",
     "shell.execute_reply": "2023-08-19T09:15:19.519886Z"
    },
    "papermill": {
     "duration": 0.02194,
     "end_time": "2023-08-19T09:15:19.523768",
     "exception": false,
     "start_time": "2023-08-19T09:15:19.501828",
     "status": "completed"
    },
    "tags": []
   },
   "outputs": [
    {
     "data": {
      "text/plain": [
       "array(['No_Fraud'], dtype=object)"
      ]
     },
     "execution_count": 11,
     "metadata": {},
     "output_type": "execute_result"
    }
   ],
   "source": [
    "#prediciton\n",
    "#features=np.array[[\"type\", \"amount\",\"oldbalanceOrg\",\"newbalanceOrig\"]]\n",
    "features=np.array([[4,181.00, 181.00,181.00]])\n",
    "model.predict(features)"
   ]
  },
  {
   "cell_type": "markdown",
   "id": "03f69730",
   "metadata": {
    "papermill": {
     "duration": 0.009859,
     "end_time": "2023-08-19T09:15:19.543309",
     "exception": false,
     "start_time": "2023-08-19T09:15:19.533450",
     "status": "completed"
    },
    "tags": []
   },
   "source": [
    "# Asking and Answering Questions\n",
    "##### Asking questions to derive insights from the data is an essential process. In here I have asked relevent questions to my data and tried to find there answer using python which will eventually lead me to some meaningful insights."
   ]
  },
  {
   "cell_type": "markdown",
   "id": "4b1e1d61",
   "metadata": {
    "papermill": {
     "duration": 0.009815,
     "end_time": "2023-08-19T09:15:19.563753",
     "exception": false,
     "start_time": "2023-08-19T09:15:19.553938",
     "status": "completed"
    },
    "tags": []
   },
   "source": [
    "<head> Q-1 Data cleaning including missing values, outliers and multi-collinearity.\n",
    "\n",
    "<small> **Answer-** I have completed the data cleaning process, which involved addressing various data quality issues such as missing values, outliers, and multicollinearity. It's worth noting that there were no missing values in the dataset."
   ]
  },
  {
   "cell_type": "markdown",
   "id": "9541fcfb",
   "metadata": {
    "papermill": {
     "duration": 0.010291,
     "end_time": "2023-08-19T09:15:19.584680",
     "exception": false,
     "start_time": "2023-08-19T09:15:19.574389",
     "status": "completed"
    },
    "tags": []
   },
   "source": [
    "<head> Q-2 Describe your fraud detection model in elaboration.\n",
    "\n",
    "<small> **Answer-** Our fraud detection model is a sophisticated system designed to identify potentially fraudulent activities within a dataset. It leverages a decision tree-based machine learning model for prediction. This model is the culmination of a comprehensive data analysis process that includes exploratory data analysis (EDA) and rigorous data cleaning."
   ]
  },
  {
   "cell_type": "markdown",
   "id": "d8ea2e26",
   "metadata": {
    "papermill": {
     "duration": 0.009728,
     "end_time": "2023-08-19T09:15:19.604854",
     "exception": false,
     "start_time": "2023-08-19T09:15:19.595126",
     "status": "completed"
    },
    "tags": []
   },
   "source": [
    "<head> Q-3 How did you select variables to be included in the model?\n",
    "\n",
    "<small> **Answer-** The selection of variables, or features, to include in a model is a critical step in the model development process. In your case, you've selected \"type,\" \"amount,\" \"oldbalanceorg,\" and \"newbalanceorg\" as features and \"isFraud\" as the target variable. Here's a brief explanation of how you might justify this selection:\n",
    "\n",
    "**Relevance to the Problem:** Each selected feature should be directly or indirectly related to the problem you are trying to solve, which is fraud detection in this case. \"Type\" is likely to be relevant because the type of transaction (e.g., transfer, payment) can be an important indicator of potential fraud. \"Amount\" is also relevant, as unusually large or small amounts might signal fraudulent activity. \"Oldbalanceorg\" and \"newbalanceorg\" are relevant because changes in account balances due to transactions can be indicative of fraud.\n",
    "\n",
    "**Domain Knowledge:** Consideration of domain knowledge is crucial. You may have insights into the financial domain that suggest these variables are meaningful indicators of fraud. Expert knowledge can guide you in selecting features that are likely to capture fraudulent behavior effectively.\n",
    "\n",
    "**Data Exploration (EDA):** Exploratory Data Analysis can help you understand the relationships between variables and their impact on the target variable. If during EDA you find that these features exhibit noticeable patterns or differences between fraudulent and non-fraudulent cases, it provides strong justification for their inclusion.\n",
    "\n",
    "**Correlation Analysis:** Assess the correlation between features. Variables with high intercorrelation (multicollinearity) might not all be necessary in the model, as they provide redundant information. However, if they each contribute unique information to the prediction, they can be included.\n",
    "\n",
    "**Model Performance:** It's essential to continually monitor and evaluate the model's performance. You can employ techniques like feature importance scores provided by the model to assess which features have the most significant impact on predictions. If certain features are consistently ranked high in importance, they should be retained.\n",
    "\n",
    "**Practicality and Resource Considerations:** Consider the practicality of obtaining and processing the data for these features. Also, think about resource constraints. Including too many features can increase computational requirements and complexity."
   ]
  },
  {
   "cell_type": "markdown",
   "id": "1fb47ebf",
   "metadata": {
    "papermill": {
     "duration": 0.009505,
     "end_time": "2023-08-19T09:15:19.624026",
     "exception": false,
     "start_time": "2023-08-19T09:15:19.614521",
     "status": "completed"
    },
    "tags": []
   },
   "source": [
    "<head> Q-4 Demonstrate the performance of the model by using best set of tools.\n",
    "\n",
    "<small> **Answer-** Our model has achieved an impressive accuracy rate of above 99%. This high accuracy signifies that the model is exceptionally good at correctly classifying transactions as either fraudulent or non-fraudulent."
   ]
  },
  {
   "cell_type": "markdown",
   "id": "894396f0",
   "metadata": {
    "papermill": {
     "duration": 0.009411,
     "end_time": "2023-08-19T09:15:19.643034",
     "exception": false,
     "start_time": "2023-08-19T09:15:19.633623",
     "status": "completed"
    },
    "tags": []
   },
   "source": [
    "<head> Q-5 What are the key factors that predict fraudulent customer? \n",
    "\n",
    "<small> **Answer-** In our dataset, we have several columns, and we'll discuss the key factors that might predict fraudulent customers based on these columns:\n",
    "\n",
    "**1-Transaction Type (Type)**\n",
    "\n",
    "**2-Transaction Amount (Amount)**\n",
    "\n",
    "**3-Account Balance Changes (OldbalanceOrg, NewbalanceOrig, OldbalanceDest, NewbalanceDest)**\n",
    "\n",
    "**4-Transaction Partners (NameOrig, NameDest)**\n",
    "\n",
    "**5-Flagged Transactions (IsFlaggedFraud)**"
   ]
  },
  {
   "cell_type": "markdown",
   "id": "20dc1472",
   "metadata": {
    "papermill": {
     "duration": 0.010093,
     "end_time": "2023-08-19T09:15:19.663623",
     "exception": false,
     "start_time": "2023-08-19T09:15:19.653530",
     "status": "completed"
    },
    "tags": []
   },
   "source": [
    "<head> Q-6 Do these factors make sense? If yes, How? If not, How not? \n",
    "\n",
    "<small> **Answer-**\n",
    "\n",
    "**Transaction Type (Type):**\n",
    "\n",
    "Certain transaction types might be more prone to fraud than others. For example, \"TRANSFER\" and \"CASH_OUT\" transactions are often associated with fraudulent activities as they involve moving money out of an account.\n",
    "\n",
    "**Transaction Amount (Amount):**\n",
    "\n",
    "Large or unusual transaction amounts can be indicative of fraudulent behavior. Fraudsters may attempt to move large sums of money quickly to avoid detection.\n",
    "\n",
    "**Account Balance Changes (OldbalanceOrg, NewbalanceOrig, OldbalanceDest, NewbalanceDest):**\n",
    "\n",
    "Significant changes in account balances before and after transactions can be a red flag. For instance, if an account's balance is low before a large outgoing transfer and becomes zero afterward, it could be a sign of fraud.\n",
    "\n",
    "**Transaction Partners (NameOrig, NameDest):**\n",
    "\n",
    "Examining the origins and destinations of transactions can provide insights. Suspicious patterns might emerge, such as transactions involving certain accounts repeatedly.\n",
    "\n",
    "**Flagged Transactions (IsFlaggedFraud):**\n",
    "\n",
    "If there is a flag indicating potentially fraudulent transactions, this could be a strong predictor. It implies that the system has detected unusual behavior during the transaction."
   ]
  },
  {
   "cell_type": "markdown",
   "id": "ab254094",
   "metadata": {
    "papermill": {
     "duration": 0.009469,
     "end_time": "2023-08-19T09:15:19.683672",
     "exception": false,
     "start_time": "2023-08-19T09:15:19.674203",
     "status": "completed"
    },
    "tags": []
   },
   "source": [
    "<head> Q-7 What kind of prevention should be adopted while company update its infrastructure?\n",
    "\n",
    "<small> **Answer-** When a company updates its infrastructure, whether it's related to IT systems, physical facilities, or both, there are several key preventive measures to consider to ensure a smooth transition and minimize disruptions. Here are some essential prevention strategies:\n",
    "\n",
    "##### **Thorough Planning:**\n",
    "\n",
    "**Risk Assessment:** \n",
    "\n",
    "Conduct a comprehensive risk assessment to identify potential issues and vulnerabilities associated with the infrastructure update.\n",
    "\n",
    "**Project Management:** \n",
    "\n",
    "Employ effective project management techniques to define goals, timelines, and responsibilities. Consider using project management software to keep track of tasks and milestones.\n",
    "\n",
    "##### **Backup and Data Recovery:**\n",
    "\n",
    "Implement regular data backups and ensure data recovery mechanisms are in place in case of unexpected issues during the update process. Backup your data offsite to safeguard against catastrophic events.\n",
    "\n",
    "##### **Redundancy:**\n",
    "\n",
    "Implement redundancy in critical systems where possible. Redundant servers, power sources, and network connections can help maintain operations in case of hardware failures.\n",
    "\n",
    "##### **Testing and Staging Environments:**\n",
    "\n",
    "Create testing and staging environments that mirror the production environment. This allows you to test updates and changes before applying them in the live environment, reducing the risk of unforeseen issues.\n",
    "\n",
    "##### **Change Management:**\n",
    "\n",
    "Establish a robust change management process to document and track changes made during the update. Ensure that only authorized personnel can make changes, and changes are thoroughly reviewed and tested."
   ]
  },
  {
   "cell_type": "markdown",
   "id": "1a0b37c3",
   "metadata": {
    "papermill": {
     "duration": 0.009578,
     "end_time": "2023-08-19T09:15:19.703016",
     "exception": false,
     "start_time": "2023-08-19T09:15:19.693438",
     "status": "completed"
    },
    "tags": []
   },
   "source": [
    "<head> Q-8 Assuming these actions have been implemented, how would you determine if they work?\n",
    "\n",
    "<small> **Answer-** To determine if the preventive actions implemented during an infrastructure update are effective, you should employ a combination of monitoring, assessment, and evaluation processes. Here's how you can assess the effectiveness of these measures:\n",
    "\n",
    "**Monitoring Systems:**\n",
    "\n",
    "Continuously monitor the updated infrastructure using appropriate monitoring tools and systems. This includes tracking performance metrics, security events, and the availability of critical services.\n",
    "\n",
    "**Incident and Issue Tracking:**\n",
    "\n",
    "Implement an incident tracking system to record and categorize issues or incidents that occur post-update. This system should include information about the issue's cause, resolution, and impact.\n",
    "\n",
    "**Data Analysis:**\n",
    "\n",
    "Analyze data collected from monitoring systems, incident reports, and user feedback to identify trends or recurring issues. Look for patterns that may indicate areas where preventive measures could be strengthened."
   ]
  }
 ],
 "metadata": {
  "kernelspec": {
   "display_name": "Python 3",
   "language": "python",
   "name": "python3"
  },
  "language_info": {
   "codemirror_mode": {
    "name": "ipython",
    "version": 3
   },
   "file_extension": ".py",
   "mimetype": "text/x-python",
   "name": "python",
   "nbconvert_exporter": "python",
   "pygments_lexer": "ipython3",
   "version": "3.10.12"
  },
  "papermill": {
   "default_parameters": {},
   "duration": 35.181879,
   "end_time": "2023-08-19T09:15:20.937257",
   "environment_variables": {},
   "exception": null,
   "input_path": "__notebook__.ipynb",
   "output_path": "__notebook__.ipynb",
   "parameters": {},
   "start_time": "2023-08-19T09:14:45.755378",
   "version": "2.4.0"
  }
 },
 "nbformat": 4,
 "nbformat_minor": 5
}
